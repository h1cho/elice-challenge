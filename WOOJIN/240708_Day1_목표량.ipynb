{
 "cells": [
  {
   "cell_type": "markdown",
   "id": "b5fd7078",
   "metadata": {},
   "source": [
    "# 목표량\n",
    "- 엘리스 알고리즘 챌린지 Day 1\n",
    "- https://code-challenge.elice.io/courses/95930/lectures/738999/lecturepages/20391340"
   ]
  },
  {
   "cell_type": "markdown",
   "id": "b46f790e",
   "metadata": {},
   "source": [
    "---"
   ]
  },
  {
   "cell_type": "markdown",
   "id": "e51c6afd",
   "metadata": {},
   "source": [
    "## [문제 설명]\n",
    "\n",
    "엘리스 토끼는 목표량을 정해 수학 문제를 열심히 풉니다. 목표량은 정수입니다.\n",
    "\n",
    "내일 풀 수학 문제의 개수는 오늘 푼 문제 개수의 수와 숫자의 구성이 같으면서, 오늘 푼 문제 개수의 수보다 큰 수 중 가장 작은 수입니다.\n",
    "\n",
    "예를 들어, 오늘 67문제를 풀었으면 다음 날 76문제를 풉니다.\n",
    "\n",
    "오늘 푼 문제의 개수를 줬을 때 다음날 풀 문제의 개수를 출력하는 프로그램을 작성하세요."
   ]
  },
  {
   "cell_type": "markdown",
   "id": "32abc480",
   "metadata": {},
   "source": [
    "## [지시사항]\n",
    "\n",
    "### 입력\n",
    "\n",
    "- 첫 번째 줄에 오늘 푼 문제의 개수인 자연수 *N*을 입력합니다. ($1≤N≤999999$)\n",
    "\n",
    "- 정답이 반드시 있는 경우만 입력값으로 주어집니다.\n",
    "\n",
    "### 출력\n",
    "\n",
    "- 다음날 풀 문제의 개수를 출력합니다.\n",
    "\n",
    "### 입력 예시\n",
    "\n",
    "```\n",
    "364\n",
    "```\n",
    "\n",
    "### 출력 예시\n",
    "\n",
    "```\n",
    "436\n",
    "```"
   ]
  },
  {
   "cell_type": "markdown",
   "id": "41627fb5",
   "metadata": {},
   "source": [
    "---"
   ]
  },
  {
   "cell_type": "markdown",
   "id": "98822574",
   "metadata": {},
   "source": [
    "## [풀이]"
   ]
  },
  {
   "cell_type": "code",
   "execution_count": 1,
   "id": "b567f362",
   "metadata": {
    "ExecuteTime": {
     "end_time": "2024-07-08T14:10:40.586993Z",
     "start_time": "2024-07-08T14:10:40.570468Z"
    }
   },
   "outputs": [
    {
     "name": "stdout",
     "output_type": "stream",
     "text": [
      "436\n"
     ]
    }
   ],
   "source": [
    "from itertools import permutations\n",
    "\n",
    "n = \"364\"\n",
    "# n = input()\n",
    "n_sorted = sorted([int(\"\".join(num)) for num in permutations(n)])\n",
    "next_is_answer = False\n",
    "\n",
    "for this_num in n_sorted:\n",
    "    if this_num == int(n):\n",
    "        next_is_answer = True\n",
    "    elif next_is_answer:\n",
    "        print(this_num)\n",
    "        break"
   ]
  },
  {
   "cell_type": "markdown",
   "id": "8c26d2a9",
   "metadata": {},
   "source": [
    "---"
   ]
  },
  {
   "cell_type": "markdown",
   "id": "75a13709",
   "metadata": {},
   "source": [
    "## [후기]\n",
    "\n",
    "### 주요 내용\n",
    "\n",
    "- `itertools`의 `permutations` 모듈을 이용하여 숫자의 구성이 같은 모든 **경우의 수** 나열\n",
    "- `sorted()`를 이용해 리스트를 **정렬**한 뒤 순서대로 탐색\n",
    "- N을 발견했을 때 체크하고, 체크된 **바로 다음 숫자**를 출력 (**중복**된 경우의 수 고려)\n",
    "- 정답을 출력한 후 `break`하여 리소스 절약\n",
    "\n",
    "### 소감\n",
    "\n",
    "- 모든 경우를 나열하지 않고 **수학적 규칙**을 찾아내는 접근법을 시도하려고 했으나 **일반화하기 쉽지 않아서** 결국 이렇게 해결함.\n",
    "- 지금은 N의 범위가 최대 6자리이기 때문에 완전 탐색 방식으로 구현해도 문제가 없었으나, 자릿수가 늘어날수록 연산 횟수가 팩토리얼에 비례하여 증가. 따라서 이 방법은 **시간 복잡도**의 문제를 발생시킬 가능성 큼. 보다 깔끔하게 해결할 방법을 찾아야 할 듯."
   ]
  }
 ],
 "metadata": {
  "kernelspec": {
   "display_name": "Python 3 (ipykernel)",
   "language": "python",
   "name": "python3"
  },
  "language_info": {
   "codemirror_mode": {
    "name": "ipython",
    "version": 3
   },
   "file_extension": ".py",
   "mimetype": "text/x-python",
   "name": "python",
   "nbconvert_exporter": "python",
   "pygments_lexer": "ipython3",
   "version": "3.9.16"
  },
  "toc": {
   "base_numbering": 1,
   "nav_menu": {},
   "number_sections": false,
   "sideBar": true,
   "skip_h1_title": false,
   "title_cell": "Table of Contents",
   "title_sidebar": "Contents",
   "toc_cell": false,
   "toc_position": {
    "height": "calc(100% - 180px)",
    "left": "10px",
    "top": "150px",
    "width": "300.6px"
   },
   "toc_section_display": true,
   "toc_window_display": true
  }
 },
 "nbformat": 4,
 "nbformat_minor": 5
}
