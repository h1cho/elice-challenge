{
 "cells": [
  {
   "cell_type": "markdown",
   "id": "b5fd7078",
   "metadata": {},
   "source": [
    "# 트리 위의 게임\n",
    "- 엘리스 알고리즘 챌린지 Day 5"
   ]
  },
  {
   "cell_type": "markdown",
   "id": "b46f790e",
   "metadata": {},
   "source": [
    "---"
   ]
  },
  {
   "cell_type": "markdown",
   "id": "e51c6afd",
   "metadata": {},
   "source": [
    "## [문제 설명]\n",
    "\n",
    "양의 정수로 이루어진 수열 $a_1,a_2,⋯,a_n$이 있습니다. ($1≤a_i≤10^5$)\n",
    "\n",
    "이 수열에서 각 원소를 선택하거나 선택하지 않음으로써 총 $2^n$개의 부분 수열을 만들 수 있고, 만들어진 모든 부분 수열의 합인 $2^n$개의 정수가 주어졌을 때, 원래의 수열 $a_1,a_2,⋯,a_n$을 구하는 프로그램을 작성하세요."
   ]
  },
  {
   "cell_type": "markdown",
   "id": "32abc480",
   "metadata": {},
   "source": [
    "## [지시사항]\n",
    "\n",
    "### 입력\n",
    "\n",
    "- 첫째 줄에 정수 $n$이 주어집니다. ($1≤n≤15$)\n",
    "- 둘째 줄에 이 수열에서 만들 수 있는 모든 부분 수열의 합인 $2^n$개의 정수 $s_{1},s_{2},⋯,s_{2^n}$이 주어집니다. ($0≤s_i≤n×10^5$)\n",
    "\n",
    "### 출력\n",
    "\n",
    "- 첫째 줄에 원래 수열의 원소를 오름차순으로 출력합니다.\n",
    "\n",
    "### 입력 예시\n",
    "\n",
    "```\n",
    "3\n",
    "1 4 7 3 0 6 5 2\n",
    "```\n",
    "\n",
    "### 출력 예시\n",
    "\n",
    "```\n",
    "1 2 4\n",
    "```"
   ]
  },
  {
   "cell_type": "markdown",
   "id": "41627fb5",
   "metadata": {},
   "source": [
    "---"
   ]
  },
  {
   "cell_type": "markdown",
   "id": "98822574",
   "metadata": {},
   "source": [
    "## [풀이]"
   ]
  },
  {
   "cell_type": "code",
   "execution_count": 1,
   "id": "b567f362",
   "metadata": {
    "ExecuteTime": {
     "end_time": "2024-07-12T08:57:25.898324Z",
     "start_time": "2024-07-12T08:57:25.874947Z"
    }
   },
   "outputs": [
    {
     "name": "stdout",
     "output_type": "stream",
     "text": [
      "1 2 4 "
     ]
    }
   ],
   "source": [
    "# n = int(input())\n",
    "n = 3\n",
    "# nums = sorted(list(map(int, input().split()))) #오름차순으로 정렬한 후 탐색\n",
    "nums = sorted(list(map(int, \"1 4 7 3 0 6 5 2\".split())))\n",
    "\n",
    "# nums[0]은 무조건 0, nums[1]은 무조건 '원래 수열의 원소'\n",
    "answers = [nums[1]] #'원래 수열의 원소'를 담는 리스트\n",
    "sums = [0, nums[1]] #수열의 합을 체크하는 리스트\n",
    "nums = nums[2:] #index가 2인 원소부터 탐색 시작 (nums[2] 역시 무조건 '원래 수열의 원소')\n",
    "\n",
    "while nums:\n",
    "    # '원래 수열의 원소' 발견\n",
    "    num = nums[0]\n",
    "    answers.append(num)\n",
    "\n",
    "    # 발견한 수 이용하여 sums 재구성 -> 합으로 구성되는 원소 발견 시 nums에서 제거\n",
    "    temp_sums = []\n",
    "    for s in sums:\n",
    "        temp_sums.append(s + num)\n",
    "        nums.pop(nums.index(s + num))\n",
    "    sums += temp_sums\n",
    "\n",
    "    # n개의 '원래 수열의 원소'를 모두 찾았다면 알고리즘 종료\n",
    "    if len(answers) >= n:\n",
    "        break\n",
    "\n",
    "for answer in answers:\n",
    "    print(answer, end=' ')"
   ]
  },
  {
   "cell_type": "markdown",
   "id": "8c26d2a9",
   "metadata": {},
   "source": [
    "---"
   ]
  },
  {
   "attachments": {},
   "cell_type": "markdown",
   "id": "75a13709",
   "metadata": {},
   "source": [
    "## [후기]\n",
    "\n",
    "### 주요 내용\n",
    "\n",
    "- `nums`를 **오름차순**으로 정렬 후, 왼쪽부터 수를 하나씩 뽑아내어 기준 충족 여부 판별\n",
    "- '원래 수열의 원소'를 하나 **찾을 때마다** 여기서 파생되는 **합**을 **모두 제거** → 배열이 이미 정렬되어 있기 때문에 별도의 조건을 걸지 않아도 '원래 수열의 원소'를 찾아낼 수 있음\n",
    "\n",
    "### 소감\n",
    "\n",
    "- '원래 수열의 원소'가 아닌 수(**합으로 구성된 수**)를 어떻게 식별하고, 처리하냐가 관건이었음. 최초에는 if 조건을 걸어보려고 했으나, 이렇게 하면 **중복 등장하는 수**를 온전히 걸러내기가 까다로웠음.\n",
    "- 조금 더 직관적으로, 수를 직접 배열에서 **뽑아내면서** 컨트롤했더니 어렵지 않게 해결할 수 있었음. 때로는 과감하게 **원본을 조작**하며 해결해 나갈 필요가 있겠음."
   ]
  }
 ],
 "metadata": {
  "kernelspec": {
   "display_name": "Python 3 (ipykernel)",
   "language": "python",
   "name": "python3"
  },
  "language_info": {
   "codemirror_mode": {
    "name": "ipython",
    "version": 3
   },
   "file_extension": ".py",
   "mimetype": "text/x-python",
   "name": "python",
   "nbconvert_exporter": "python",
   "pygments_lexer": "ipython3",
   "version": "3.9.16"
  },
  "toc": {
   "base_numbering": 1,
   "nav_menu": {},
   "number_sections": false,
   "sideBar": true,
   "skip_h1_title": false,
   "title_cell": "Table of Contents",
   "title_sidebar": "Contents",
   "toc_cell": false,
   "toc_position": {
    "height": "calc(100% - 180px)",
    "left": "10px",
    "top": "150px",
    "width": "300.6px"
   },
   "toc_section_display": true,
   "toc_window_display": true
  }
 },
 "nbformat": 4,
 "nbformat_minor": 5
}
