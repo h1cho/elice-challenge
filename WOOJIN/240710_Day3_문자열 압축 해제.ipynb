{
 "cells": [
  {
   "cell_type": "markdown",
   "id": "b5fd7078",
   "metadata": {},
   "source": [
    "# 문자열 압축 해제\n",
    "- 엘리스 알고리즘 챌린지 Day 3"
   ]
  },
  {
   "cell_type": "markdown",
   "id": "b46f790e",
   "metadata": {},
   "source": [
    "---"
   ]
  },
  {
   "cell_type": "markdown",
   "id": "e51c6afd",
   "metadata": {},
   "source": [
    "## [문제 설명]\n",
    "\n",
    "엘리스 토끼는 문자열을 직접 압축 해제하려고 합니다.\n",
    "\n",
    "압축되지 않은 문자열 $S$가 주어졌을 때, 이 문자열 중 어떤 부분 문자열은  $K(Q)$와 같이 압축할 수 있습니다. 이것은 $Q$라는 문자열이 $K$ 번 반복된다는 뜻입니다. $K$는 **한 자릿수**의 정수이고, $Q$는 0자리 이상의 문자열입니다.\n",
    "\n",
    "예를 들면, $53(8)$은 다음과 같이 압축을 해제할 수 있습니다.\n",
    "\n",
    "$$\n",
    "53(8) = 5 + 3(8) = 5 + 888 = 5888\n",
    "$$\n",
    "\n",
    "압축된 문자열이 주어졌을 때, 이 문자열을 다시 압축을 푸는 프로그램을 작성하세요."
   ]
  },
  {
   "cell_type": "markdown",
   "id": "32abc480",
   "metadata": {},
   "source": [
    "## [지시사항]\n",
    "\n",
    "## 지시사항\n",
    "\n",
    "### 입력\n",
    "\n",
    "- 첫째 줄에 압축된 문자열 $S$를 입력합니다.\n",
    "- $S$의 길이는 최대 50입니다.\n",
    "- 문자열은 `(`, `)`, 숫자로만 구성되어 있습니다.\n",
    "\n",
    "### 출력\n",
    "\n",
    "- 압축되지 않은 문자열의 길이를 출력합니다.\n",
    "\n",
    "### 입력 예시\n",
    "\n",
    "```\n",
    "11(18(72(7)))\n",
    "```\n",
    "\n",
    "### 출력 예시\n",
    "\n",
    "```\n",
    "26\n",
    "```"
   ]
  },
  {
   "cell_type": "markdown",
   "id": "41627fb5",
   "metadata": {},
   "source": [
    "---"
   ]
  },
  {
   "cell_type": "markdown",
   "id": "98822574",
   "metadata": {},
   "source": [
    "## [풀이]"
   ]
  },
  {
   "cell_type": "code",
   "execution_count": 1,
   "id": "b567f362",
   "metadata": {
    "ExecuteTime": {
     "end_time": "2024-07-10T16:53:46.413561Z",
     "start_time": "2024-07-10T16:53:46.374766Z"
    }
   },
   "outputs": [
    {
     "name": "stdout",
     "output_type": "stream",
     "text": [
      "26\n"
     ]
    }
   ],
   "source": [
    "# txt = input()\n",
    "txt = \"11(18(72(7)))\"\n",
    "length = 0\n",
    "opened = []\n",
    "closed = []\n",
    "\n",
    "for idx, t in enumerate(txt):\n",
    "    if t == \"(\":\n",
    "        opened.append(idx)\n",
    "    elif t == \")\":\n",
    "        closed.append(idx)\n",
    "\n",
    "if opened and closed:\n",
    "    for i in range(len(opened)):\n",
    "        if i == 0:\n",
    "            length += closed[i] - opened[-(i + 1)] - 1\n",
    "            length *= int(txt[opened[-(i + 1)] - 1])\n",
    "        else:\n",
    "            length += (opened[-i] - opened[-(i + 1)] - 2) + (closed[i] - closed[i - 1] - 1)\n",
    "            length *= int(txt[opened[-(i + 1)] - 1])\n",
    "\n",
    "    length += (opened[0] - 1) + (len(txt) - (closed[-1]) - 1)\n",
    "else:\n",
    "    length = len(txt)\n",
    "    \n",
    "print(length)"
   ]
  },
  {
   "cell_type": "markdown",
   "id": "8c26d2a9",
   "metadata": {},
   "source": [
    "---"
   ]
  },
  {
   "cell_type": "markdown",
   "id": "75a13709",
   "metadata": {},
   "source": [
    "## [후기]\n",
    "\n",
    "### 주요 내용\n",
    "\n",
    "- 괄호 열리는 부분과 닫히는 부분 인덱스 받아온 뒤 **가장 안쪽의 괄호**부터 순서대로 길이를 측정\n",
    "    - 최초에는 괄호 안의 길이 * 반복 횟수\n",
    "    - 이후에는 (괄호 안의 길이 + 이전 괄호 안의 길이) * 반복 횟수\n",
    "    - 마지막에 괄호 밖의 길이\n",
    "- **괄호가 없는 경우**에 대한 예외 처리\n",
    "\n",
    "### 소감\n",
    "\n",
    "- **길이**만 보면 되는 거라는 점에 집중하고자 했는데 괄호 인덱싱이 쉽지만은 않았음. 아무래도 **스택** 활용했으면 도움 됐을 듯? (나중에 시간 많으면 시도해보기)\n",
    "- 1번 케이스가 **괄호 없는 경우**인 것 같던데, 이런 예외 처리 케이스를 빠른 시간 내로 떠올릴 수 있어서 다행. 이와는 별개로 에러 메시지가 출력됐어야 할 상황에서 틀렸다고만 나오니까 뭐가 문제인지 파악하기가 어려움…"
   ]
  }
 ],
 "metadata": {
  "kernelspec": {
   "display_name": "Python 3 (ipykernel)",
   "language": "python",
   "name": "python3"
  },
  "language_info": {
   "codemirror_mode": {
    "name": "ipython",
    "version": 3
   },
   "file_extension": ".py",
   "mimetype": "text/x-python",
   "name": "python",
   "nbconvert_exporter": "python",
   "pygments_lexer": "ipython3",
   "version": "3.9.16"
  },
  "toc": {
   "base_numbering": 1,
   "nav_menu": {},
   "number_sections": false,
   "sideBar": true,
   "skip_h1_title": false,
   "title_cell": "Table of Contents",
   "title_sidebar": "Contents",
   "toc_cell": false,
   "toc_position": {
    "height": "calc(100% - 180px)",
    "left": "10px",
    "top": "150px",
    "width": "300.6px"
   },
   "toc_section_display": true,
   "toc_window_display": true
  }
 },
 "nbformat": 4,
 "nbformat_minor": 5
}
