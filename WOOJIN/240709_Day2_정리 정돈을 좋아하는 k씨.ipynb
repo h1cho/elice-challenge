{
 "cells": [
  {
   "cell_type": "markdown",
   "id": "b5fd7078",
   "metadata": {},
   "source": [
    "# 정리 정돈을 좋아하는 k씨\n",
    "- 엘리스 알고리즘 챌린지 Day 2\n",
    "- https://code-challenge.elice.io/courses/95930/lectures/738999/lecturepages/20391342"
   ]
  },
  {
   "cell_type": "markdown",
   "id": "b46f790e",
   "metadata": {},
   "source": [
    "---"
   ]
  },
  {
   "cell_type": "markdown",
   "id": "e51c6afd",
   "metadata": {},
   "source": [
    "## [문제 설명]\n",
    "\n",
    "정리 정돈을 좋아하는 k씨의 본명은 아무도 모릅니다. 사람들은 k씨의 특이한 행동 2가지 때문에 그를 '정리 정돈을 좋아하는 k씨'라고 부릅니다. 그 두 가지 행동은 그가 숫자를 정리하는 일을 하면 아무 규칙없이 나열되어 있는 숫자중 범위를 정한 후 무조건 오름차순으로 정리한다는 것, 그리고 오름차순으로 정리된 숫자 중 $k$번째 숫자를 선택한다는 것입니다\n",
    "\n",
    "예를 들어 $a=\\{1,7,6,8,1,6,4,5\\}$라는 수열이 있습니다. 정리정돈을 좋아하는 k씨는 범위를 2에서 5로 정하고, $k$를 2라고 정했습니다.\n",
    "\n",
    "그러면 $k_a=\\{7,6,8,1\\}$이 되고, 이것을 오름차순으로 정리를 하면 $k_a=\\{1,6,7,8\\}$이 됩니다. 그리고 k씨는 2번째인 6을 선택합니다.\n",
    "\n",
    "배열 $a$가 주어지고, k씨가 일을 한 횟수가 주어졌을 때, k씨가 고른 숫자를 출력하는 프로그램을 작성하세요."
   ]
  },
  {
   "cell_type": "markdown",
   "id": "32abc480",
   "metadata": {},
   "source": [
    "## [지시사항]\n",
    "\n",
    "### 입력\n",
    "\n",
    "- 첫째 줄에 배열의 크기인 정수 $n$과 k씨가 일한 횟수인 정수 $m$을 입력합니다.\n",
    "    - $1≤n≤10000$\n",
    "    - $1≤m≤500$\n",
    "- 둘째 줄에는 배열에 포함된 정수를 순서대로 입력합니다. 각 정수는 절댓값이 200을 넘지 않는 정수입니다.\n",
    "- 다음 줄 부터 $m$개 줄에 걸쳐 k씨가 고른 범위인 정수 $i$, $j$와 정수 $k$를 입력합니다.\n",
    "    - $1≤i≤j≤n$\n",
    "    - $1≤k≤j−i+1$\n",
    "    \n",
    "### 출력\n",
    "\n",
    "- k씨가 일할 때마다 k씨가 선택한 숫자를 한 줄에 하나씩 출력합니다.\n",
    "\n",
    "### 입력 예시\n",
    "\n",
    "```\n",
    "8 3\n",
    "1 7 6 8 1 6 4 5\n",
    "1 5 3\n",
    "2 6 2\n",
    "4 8 3\n",
    "```\n",
    "\n",
    "### **출력 예시**\n",
    "\n",
    "```\n",
    "6\n",
    "6\n",
    "5\n",
    "```"
   ]
  },
  {
   "cell_type": "markdown",
   "id": "41627fb5",
   "metadata": {},
   "source": [
    "---"
   ]
  },
  {
   "cell_type": "markdown",
   "id": "98822574",
   "metadata": {},
   "source": [
    "## [풀이]"
   ]
  },
  {
   "cell_type": "code",
   "execution_count": 1,
   "id": "b567f362",
   "metadata": {
    "ExecuteTime": {
     "end_time": "2024-07-09T08:12:17.964579Z",
     "start_time": "2024-07-09T08:12:17.949572Z"
    }
   },
   "outputs": [
    {
     "name": "stdout",
     "output_type": "stream",
     "text": [
      "6\n"
     ]
    }
   ],
   "source": [
    "# n, m = map(int, input().split())\n",
    "n, m = 8, 1\n",
    "# nums = list(map(int, input().split()))\n",
    "nums = list(map(int, \"1 7 6 8 1 6 4 5\".split()))\n",
    "\n",
    "for _ in range(m):\n",
    "#     i, j, k = map(int, input().split())\n",
    "    i, j, k = 1, 5, 3\n",
    "    print(sorted(nums[i - 1:j])[k - 1])"
   ]
  },
  {
   "cell_type": "markdown",
   "id": "8c26d2a9",
   "metadata": {},
   "source": [
    "---"
   ]
  },
  {
   "cell_type": "markdown",
   "id": "75a13709",
   "metadata": {},
   "source": [
    "## [후기]\n",
    "\n",
    "### 주요 내용\n",
    "\n",
    "- 인덱싱 → 부분 리스트 정렬 → 값 출력\n",
    "\n",
    "### 소감\n",
    "\n",
    "- `split()`이라고 적지 않고 `split(\" \")`라고 적었더니 영문 모를 오류가 나서 한참 고생했음… 띄어쓰기 대신 탭으로 구분된 게 있었는지 참\n",
    "- **인덱싱** 과정에서 숫자 맞춰주는 것(0부터 시작하는 파이썬 리스트 vs. 1부터 시작하는 문제) 외에는 크게 어려운 게 없었음"
   ]
  }
 ],
 "metadata": {
  "kernelspec": {
   "display_name": "Python 3 (ipykernel)",
   "language": "python",
   "name": "python3"
  },
  "language_info": {
   "codemirror_mode": {
    "name": "ipython",
    "version": 3
   },
   "file_extension": ".py",
   "mimetype": "text/x-python",
   "name": "python",
   "nbconvert_exporter": "python",
   "pygments_lexer": "ipython3",
   "version": "3.9.16"
  },
  "toc": {
   "base_numbering": 1,
   "nav_menu": {},
   "number_sections": false,
   "sideBar": true,
   "skip_h1_title": false,
   "title_cell": "Table of Contents",
   "title_sidebar": "Contents",
   "toc_cell": false,
   "toc_position": {
    "height": "calc(100% - 180px)",
    "left": "10px",
    "top": "150px",
    "width": "300.6px"
   },
   "toc_section_display": true,
   "toc_window_display": true
  }
 },
 "nbformat": 4,
 "nbformat_minor": 5
}
