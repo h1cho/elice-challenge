{
 "cells": [
  {
   "cell_type": "markdown",
   "id": "9bf2c63f",
   "metadata": {},
   "source": [
    "## **목표량**\n",
    "\n",
    "- 시간 제한: 1초\n",
    "\n",
    "엘리스 토끼는 목표량을 정해 수학 문제를 열심히 풉니다. 목표량은 정수입니다.\n",
    "\n",
    "내일 풀 수학 문제의 개수는 오늘 푼 문제 개수의 수와 숫자의 구성이 같으면서, 오늘 푼 문제 개수의 수보다 큰 수 중 가장 작은 수입니다.\n",
    "\n",
    "예를 들어, 오늘 67문제를 풀었으면 다음 날 76문제를 풉니다.\n",
    "\n",
    "오늘 푼 문제의 개수를 줬을 때 다음날 풀 문제의 개수를 출력하는 프로그램을 작성하세요.\n",
    "\n",
    "## **지시사항**\n",
    "\n",
    "### **입력**\n",
    "\n",
    "- 첫 번째 줄에 오늘 푼 문제의 개수인 자연수 *N*을 입력합니다.\n",
    "\n",
    "$$\n",
    "1≤N≤999999\n",
    "$$\n",
    "\n",
    "- 정답이 반드시 있는 경우만 입력값으로 주어집니다.\n",
    "\n",
    "### **출력**\n",
    "\n",
    "- 다음날 풀 문제의 개수를 출력합니다.\n",
    "\n",
    "### **입력 예시**\n",
    "\n",
    "```\n",
    "364\n",
    "```\n",
    "\n",
    "### **출력 예시**\n",
    "\n",
    "```\n",
    "436\n",
    "```"
   ]
  },
  {
   "cell_type": "markdown",
   "id": "9686a25a",
   "metadata": {},
   "source": [
    "[Idea]\n",
    "1. 오른쪽에서부터 2개씩 비교, 오름차순인 경우 stop\n",
    "2. 가장 왼쪽 숫자 다음으로 큰 숫자로 바꿈\n",
    "    - 여기서 정렬 또는 비교 필요\n",
    "3. 남은 숫자들 오름차순으로 정렬"
   ]
  },
  {
   "cell_type": "code",
   "execution_count": 40,
   "id": "4858758d",
   "metadata": {},
   "outputs": [
    {
     "name": "stdout",
     "output_type": "stream",
     "text": [
      "121\n",
      "112\n"
     ]
    }
   ],
   "source": [
    "# 1차 시도: 1개 틀림\n",
    "def count_problems(n):\n",
    "    nums = [i for i in str(n)]\n",
    "    ln = len(nums)\n",
    "\n",
    "    for i in range(ln-1,0,-1):\n",
    "        if nums[i] > nums[i-1]:\n",
    "            temp = nums[i-1]\n",
    "            templi = sorted(nums[i-1:])\n",
    "            tempidx = templi.index(temp)\n",
    "            temp2 = templi.pop(tempidx+1)\n",
    "            result = ''.join(nums[:i-1]) + temp2 + ''.join(templi)\n",
    "            return result\n",
    "\n",
    "N = int(input())\n",
    "\n",
    "print(count_problems(N))"
   ]
  },
  {
   "cell_type": "code",
   "execution_count": 41,
   "id": "ae422878",
   "metadata": {},
   "outputs": [
    {
     "name": "stdout",
     "output_type": "stream",
     "text": [
      "121\n",
      "211\n"
     ]
    }
   ],
   "source": [
    "# 2차 시도 : 성공\n",
    "def count_problems(n):\n",
    "    nums = [i for i in str(n)]\n",
    "    ln = len(nums)\n",
    "\n",
    "    for i in range(ln-1,0,-1):\n",
    "        if nums[i] > nums[i-1]:\n",
    "            temp = nums[i-1]\n",
    "            templi = sorted(nums[i-1:])\n",
    "            tempidx = templi.index(temp)\n",
    "            temp2 = templi.pop(tempidx+templi.count(temp))\n",
    "            result = ''.join(nums[:i-1]) + temp2 + ''.join(templi)\n",
    "            return result\n",
    "\n",
    "N = int(input())\n",
    "\n",
    "print(count_problems(N))"
   ]
  }
 ],
 "metadata": {
  "kernelspec": {
   "display_name": "Python 3 (ipykernel)",
   "language": "python",
   "name": "python3"
  },
  "language_info": {
   "codemirror_mode": {
    "name": "ipython",
    "version": 3
   },
   "file_extension": ".py",
   "mimetype": "text/x-python",
   "name": "python",
   "nbconvert_exporter": "python",
   "pygments_lexer": "ipython3",
   "version": "3.11.7"
  },
  "toc": {
   "base_numbering": 1,
   "nav_menu": {},
   "number_sections": false,
   "sideBar": true,
   "skip_h1_title": false,
   "title_cell": "Table of Contents",
   "title_sidebar": "Contents",
   "toc_cell": false,
   "toc_position": {
    "height": "calc(100% - 180px)",
    "left": "10px",
    "top": "150px",
    "width": "194.6px"
   },
   "toc_section_display": true,
   "toc_window_display": true
  }
 },
 "nbformat": 4,
 "nbformat_minor": 5
}
