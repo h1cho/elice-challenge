{
 "cells": [
  {
   "cell_type": "markdown",
   "id": "5522c41b",
   "metadata": {},
   "source": [
    "# **정리 정돈을 좋아하는 k씨**\n",
    "\n",
    "- 시간 제한: 1초\n",
    "\n",
    "정리 정돈을 좋아하는 k씨의 본명은 아무도 모릅니다. 사람들은 k씨의 특이한 행동 2가지 때문에 그를 '정리 정돈을 좋아하는 k씨'라고 부릅니다. 그 두 가지 행동은 그가 숫자를 정리하는 일을 하면 아무 규칙없이 나열되어 있는 숫자중 범위를 정한 후 무조건 오름차순으로 정리한다는 것, 그리고 오름차순으로 정리된 숫자 중 *k*번째 숫자를 선택한다는 것입니다\n",
    "\n",
    "예를 들어 $a=\\{1,7,6,8,1,6,4,5\\}$라는 수열이 있습니다. 정리정돈을 좋아하는 k씨는 범위를 2에서 5로 정하고, k를 2라고 정했습니다.\n",
    "\n",
    "그러면 $k_a=\\{7,6,8,1\\}$이 되고, 이것을 오름차순으로 정리를 하면 $k_a=\\{1,6,7,8\\}$이 됩니다. 그리고 k씨는 2번째인 6을 선택합니다.\n",
    "\n",
    "배열 a가 주어지고, k씨가 일을 한 횟수가 주어졌을 때, k씨가 고른 숫자를 출력하는 프로그램을 작성하세요.\n",
    "\n",
    "## **지시사항**\n",
    "\n",
    "### **입력**\n",
    "\n",
    "- 첫째 줄에 배열의 크기인 정수 *n*과 k씨가 일한 횟수인 정수 *m*을 입력합니다.\n",
    "    \n",
    "    $$\n",
    "    1≤n≤10000\n",
    "    $$\n",
    "    \n",
    "    $$\n",
    "    1≤m≤500\n",
    "    $$\n",
    "    \n",
    "- 둘째 줄에는 배열에 포함된 정수를 순서대로 입력합니다. 각 정수는 절댓값이 200을 넘지 않는 정수입니다.\n",
    "- 다음 줄 부터 *m*개 줄에 걸쳐 k씨가 고른 범위인 정수 *i*, *j*와 정수 *k*를 입력합니다.\n",
    "    \n",
    "    $$\n",
    "    1≤i≤j≤n\n",
    "    $$\n",
    "    \n",
    "    $$\n",
    "    1≤k≤j−i+1\n",
    "    $$\n",
    "    \n",
    "\n",
    "### **출력**\n",
    "\n",
    "- k씨가 일할 때마다 k씨가 선택한 숫자를 한 줄에 하나씩 출력합니다.\n",
    "\n",
    "### **입력 예시**\n",
    "\n",
    "```\n",
    "8 3\n",
    "1 7 6 8 1 6 4 5\n",
    "1 5 3\n",
    "2 6 2\n",
    "4 8 3\n",
    "```\n",
    "\n",
    "### **출력 예시**\n",
    "\n",
    "```\n",
    "6\n",
    "6\n",
    "5\n",
    "```"
   ]
  },
  {
   "cell_type": "code",
   "execution_count": 23,
   "id": "7d3fd1d9",
   "metadata": {},
   "outputs": [
    {
     "name": "stdout",
     "output_type": "stream",
     "text": [
      "8 3\n",
      "1 7 6 8 1 6 4 5\n",
      "1 5 3\n",
      "2 6 2\n",
      "4 8 3\n",
      "6\n",
      "6\n",
      "5\n"
     ]
    }
   ],
   "source": [
    "def organize(arr, li):\n",
    "    i, j, k = li[0], li[1], li[2]\n",
    "    srt = sorted(arr[i-1:j])\n",
    "    return srt[k-1]\n",
    "\n",
    "# 입력\n",
    "n, m = map(int, input().split())\n",
    "arr = list(map(int, input().split()))\n",
    "works = []\n",
    "\n",
    "for _ in range(m):\n",
    "    i, j, k = map(int, input().split())\n",
    "    works.append([i, j, k])\n",
    "\n",
    "# 출력\n",
    "for a in range(m):\n",
    "    print(organize(arr, works[a]))"
   ]
  },
  {
   "attachments": {
    "image.png": {
     "image/png": "[encoded data removed]"
    }
   },
   "cell_type": "markdown",
   "id": "5ac4e2bc",
   "metadata": {},
   "source": [
    "![image.png](attachment:image.png)\n",
    "\n",
    "- 오늘 목표였던 100등 안에 들기 성공!"
   ]
  }
 ],
 "metadata": {
  "kernelspec": {
   "display_name": "Python 3 (ipykernel)",
   "language": "python",
   "name": "python3"
  },
  "language_info": {
   "codemirror_mode": {
    "name": "ipython",
    "version": 3
   },
   "file_extension": ".py",
   "mimetype": "text/x-python",
   "name": "python",
   "nbconvert_exporter": "python",
   "pygments_lexer": "ipython3",
   "version": "3.11.7"
  },
  "toc": {
   "base_numbering": 1,
   "nav_menu": {},
   "number_sections": false,
   "sideBar": true,
   "skip_h1_title": false,
   "title_cell": "Table of Contents",
   "title_sidebar": "Contents",
   "toc_cell": false,
   "toc_position": {
    "height": "calc(100% - 180px)",
    "left": "10px",
    "top": "150px",
    "width": "204px"
   },
   "toc_section_display": true,
   "toc_window_display": true
  }
 },
 "nbformat": 4,
 "nbformat_minor": 5
}
